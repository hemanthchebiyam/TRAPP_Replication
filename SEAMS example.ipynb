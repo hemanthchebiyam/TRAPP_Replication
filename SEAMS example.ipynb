{
 "cells": [
  {
   "cell_type": "markdown",
   "metadata": {},
   "source": [
    "## SEAMS 2019 demonstration of analysis"
   ]
  },
  {
   "cell_type": "code",
   "execution_count": 5,
   "metadata": {
    "collapsed": false
   },
   "outputs": [
    {
     "data": {
      "image/png": "[encoded data removed]",
      "text/plain": [
       "<Figure size 1000x500 with 1 Axes>"
      ]
     },
     "metadata": {},
     "output_type": "display_data"
    },
    {
     "name": "stdout",
     "output_type": "stream",
     "text": [
      "************\n",
      "OVERHEAD\n",
      "************\n",
      "100% selfish\n",
      "Average overhead is 2.31678413344\n",
      "Median overhead is 1.98803730531\n",
      "Variance of overhead is 1.54979723957\n",
      "************\n",
      "90% selfish\n",
      "Average overhead is 2.2577644053\n",
      "Median overhead is 1.95449236105\n",
      "Variance of overhead is 1.70545585871\n",
      "************\n",
      "There is a decrease of trip overhead by 1.68733977853%\n"
     ]
    }
   ],
   "source": [
    "%matplotlib inline  \n",
    "import matplotlib as mpl\n",
    "import matplotlib.pyplot as plt\n",
    "from statistics import mean, median, variance\n",
    "plt.rcParams['figure.figsize'] = [10, 5]\n",
    "import pprint\n",
    "import math\n",
    "\n",
    "def get_overheads(file_name):\n",
    "    data = []\n",
    "    with open(file_name, 'r') as results:\n",
    "        for line in results:\n",
    "            line = line.split(\",\")\n",
    "            trip_duration = float(line[4])\n",
    "            overhead = float(line[6])\n",
    "            agent = line[7]\n",
    "            preference = line[8].replace('\\r', '').replace('\\n', '')\n",
    "            \n",
    "            data.append(overhead)\n",
    "    return data\n",
    "\n",
    "overheads_100percent_selfish = get_overheads(\"data/2000-ticks/overheads-b1.csv\")\n",
    "overheads_90percent_selfish = get_overheads(\"data/2000-ticks/overheads-b0.9.csv\")\n",
    "\n",
    "overheads = []\n",
    "overheads.append(overheads_100percent_selfish)\n",
    "overheads.append(overheads_90percent_selfish)\n",
    "\n",
    "labels = []\n",
    "labels.append(\"100% selfish\")\n",
    "labels.append(\"90% selfish\")\n",
    "\n",
    "plt.figure()\n",
    "plt.boxplot(overheads, labels=labels)\n",
    "plt.show()\n",
    "\n",
    "print(\"************\")\n",
    "print(\"OVERHEAD\")\n",
    "print(\"************\")\n",
    "for i in range(len(overheads)):   \n",
    "    print(\"%s\" % (labels[i]))\n",
    "    print(\"Average overhead is % s\" % (mean(overheads[i]))) \n",
    "    print(\"Median overhead is % s\" % (median(overheads[i]))) \n",
    "    print(\"Variance of overhead is % s\" % (variance(overheads[i]))) \n",
    "    print(\"************\")\n",
    "    \n",
    "\n",
    "baseline = median(overheads_100percent_selfish)\n",
    "diff_percentage_90 = ((median(overheads_90percent_selfish) - baseline) / baseline) * 100\n",
    "\n",
    "print \"There is a decrease of trip overhead by \" + str(abs(diff_percentage_90)) + \"%\""
   ]
  },
  {
   "cell_type": "code",
   "execution_count": 6,
   "metadata": {
    "collapsed": false
   },
   "outputs": [
    {
     "data": {
      "image/png": "[encoded data removed]",
      "text/plain": [
       "<Figure size 1000x500 with 1 Axes>"
      ]
     },
     "metadata": {},
     "output_type": "display_data"
    },
    {
     "name": "stdout",
     "output_type": "stream",
     "text": [
      "************\n",
      "STREET UTILIZATION\n",
      "************\n",
      "100% selfish\n",
      "Average street utilization is 0.0274811714409\n",
      "Median street utilization is 0.00788316582915\n",
      "Variance of street utilization is 0.00429438150635\n",
      "************\n",
      "90% selfish\n",
      "Average street utilization is 0.0270357218462\n",
      "Median street utilization is 0.00795190069822\n",
      "Variance of street utilization is 0.00398273711074\n",
      "************\n",
      "There is a variance of street utilization by 7.25702630626%\n"
     ]
    }
   ],
   "source": [
    "def get_utilizations(file_name):\n",
    "    utilizations = []\n",
    "    line_no = 0\n",
    "        \n",
    "    with open(file_name, 'r') as results:\n",
    "        for line in results:\n",
    "            line = line.split(\",\")\n",
    "            line[len(line)-1] = line[len(line)-1].replace('\\r', '').replace('\\n', '')\n",
    "            line_no = line_no + 1\n",
    "            if line_no == 1:\n",
    "                edges = line\n",
    "            else: \n",
    "                utilizations.append([float(u) for u in line[1:]])   \n",
    "    \n",
    "    streets_data = {}\n",
    "    for i in range(len(edges)):\n",
    "        streets_data[edges[i]] = [utilization[i] for utilization in utilizations]\n",
    "\n",
    "    streets_utilizations = {}\n",
    "    for key, value in streets_data.iteritems():\n",
    "        streets_utilizations[key] = mean(value)\n",
    "    \n",
    "    return streets_utilizations\n",
    "\n",
    "streets_100percent_selfish = get_utilizations(\"data/2000-ticks/streets-b1.csv\")\n",
    "streets_90percent_selfish = get_utilizations(\"data/2000-ticks/streets-b0.9.csv\")\n",
    "\n",
    "streets = []\n",
    "streets.append(streets_100percent_selfish.values())\n",
    "streets.append(streets_90percent_selfish.values())\n",
    "\n",
    "labels = []\n",
    "labels.append(\"100% selfish\")\n",
    "labels.append(\"90% selfish\")\n",
    "\n",
    "plt.figure()\n",
    "plt.boxplot(streets, labels=labels)\n",
    "plt.show()\n",
    "\n",
    "print(\"************\")\n",
    "print(\"STREET UTILIZATION\")\n",
    "print(\"************\")\n",
    "for i in range(len(streets)):   \n",
    "    print(\"%s\" % (labels[i]))\n",
    "    print(\"Average street utilization is % s\" % (mean(streets[i]))) \n",
    "    print(\"Median street utilization is % s\" % (median(streets[i]))) \n",
    "    print(\"Variance of street utilization is % s\" % (variance(streets[i]))) \n",
    "    print(\"************\")\n",
    "    \n",
    "baseline = variance(streets_100percent_selfish.values())\n",
    "diff_percentage_90 = ((variance(streets_90percent_selfish.values()) - baseline) / baseline) * 100\n",
    "\n",
    "print \"There is a variance of street utilization by \" + str(abs(diff_percentage_90)) + \"%\""
   ]
  },
  {
   "cell_type": "code",
   "execution_count": null,
   "metadata": {
    "collapsed": true
   },
   "outputs": [],
   "source": []
  }
 ],
 "metadata": {
  "anaconda-cloud": {},
  "kernelspec": {
   "display_name": "Python [Root]",
   "language": "python",
   "name": "Python [Root]"
  },
  "language_info": {
   "codemirror_mode": {
    "name": "ipython",
    "version": 2
   },
   "file_extension": ".py",
   "mimetype": "text/x-python",
   "name": "python",
   "nbconvert_exporter": "python",
   "pygments_lexer": "ipython2",
   "version": "2.7.12"
  }
 },
 "nbformat": 4,
 "nbformat_minor": 0
}
